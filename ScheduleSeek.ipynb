{
 "cells": [
  {
   "cell_type": "code",
   "execution_count": null,
   "metadata": {},
   "outputs": [],
   "source": [
    "#setup libraries\n",
    "from nsepython import *   \n",
    "print(indices)\n",
    "\n",
    "#pynse SA \n",
    "import datetime\n",
    "\n",
    "#import logging\n",
    "#logging.basicConfig(level=logging.DEBUG)\n",
    "#Initializing\n",
    "from pynse import *\n",
    "nse=Nse()\n",
    "\n",
    "\n",
    "\n",
    "#docs\n",
    "#https://aeron7.github.io/nsepython/documentation/basic.html#logger-function\n",
    "#https://forum.unofficed.com/t/nsepython-documentation/376/93\n",
    "#https://github.com/StreamAlpha/pynse "
   ]
  },
  {
   "cell_type": "code",
   "execution_count": null,
   "metadata": {},
   "outputs": [],
   "source": [
    "#times to be scheduled - 0830, 0913, 1000, 1200, 1400, 1515, 1630, 2200"
   ]
  },
  {
   "cell_type": "code",
   "execution_count": null,
   "metadata": {},
   "outputs": [],
   "source": []
  },
  {
   "cell_type": "code",
   "execution_count": null,
   "metadata": {},
   "outputs": [],
   "source": [
    "#margin\n",
    "#GET\t/user/margins/:segment\tRetrieve detailed funds and margin information\n",
    "#POST\t/margins/orders\tCalculates margins for each order considering the existing positions and open orders\n",
    "#POST\t/margins/basket\tCalculates margins for spread orders\n",
    "\n",
    "\n",
    "#Instrument List\n",
    "#GET\t/instruments\tRetrieve the CSV dump of all tradable instruments\n",
    "#GET\t/instruments/:exchange\tRetrieve the CSV dump of instruments in the particular exchange\n",
    "#GET\t/mf/instruments\tRetrieve the master list of all mutual funds available on the platform\n",
    "nse.info('SBIN')\n",
    "nse.update_symbol_list()\n",
    "print(fnolist())\n",
    "#It will give you the entire list of FNO.\n",
    "\n",
    "#Running Status\n",
    "print(running_status())\n",
    "#Get Market Status\n",
    "nse.market_status()\n",
    "\n",
    "\n",
    "#PreOpen data\n",
    "nse.pre_open()\n",
    "\n",
    "#Block Deals\n",
    "print(nse_blockdeal())\n",
    "\n",
    "\n",
    "#FII DII Data\n",
    "nse.fii_dii()\n",
    "print(nse_fiidii())\n",
    "\n",
    "\n",
    "#Circular\n",
    "print(nse_circular(\"latest\"))\n",
    "print(nse_circular(\"all\"))\n",
    "\n",
    "\n",
    "#P-E,Sector\n",
    "print(nse_eq(\"JUSTDIAL\")['metadata']['pdSectorPe'])\n",
    "print(nse_eq(\"JUSTDIAL\")['metadata']['pdSectorInd'])\n",
    "\n",
    "\n",
    "#Features\n",
    "nse.top_gainers(index=IndexSymbol.FnO, length=10)\n",
    "nse.top_losers(index=IndexSymbol.FnO, length=10)\n",
    "print(nse_get_top_gainers())\n",
    "print(nse_get_top_losers())\n",
    "print(nse_get_advances_declines())\n",
    "\n",
    "#Results\n",
    "nse_results(\"equities\",\"Quarterly\")\n",
    "\n",
    "#Events\n",
    "nse_events()\n",
    "print(nse_past_results('JUSTDIAL'))\n",
    "\n",
    "#Holidays\n",
    "print(pd.json_normalize(nse_holidays()['FO']))\n",
    "holiday_master(trading)\n",
    "holiday_master(clearing)\n",
    "nse_holidays(trading)\n",
    "\n"
   ]
  },
  {
   "cell_type": "code",
   "execution_count": null,
   "metadata": {},
   "outputs": [],
   "source": []
  },
  {
   "cell_type": "code",
   "execution_count": null,
   "metadata": {},
   "outputs": [],
   "source": []
  },
  {
   "cell_type": "code",
   "execution_count": null,
   "metadata": {},
   "outputs": [],
   "source": []
  },
  {
   "cell_type": "code",
   "execution_count": null,
   "metadata": {},
   "outputs": [],
   "source": []
  },
  {
   "cell_type": "code",
   "execution_count": null,
   "metadata": {},
   "outputs": [],
   "source": []
  },
  {
   "cell_type": "code",
   "execution_count": null,
   "metadata": {},
   "outputs": [],
   "source": []
  },
  {
   "cell_type": "code",
   "execution_count": null,
   "metadata": {},
   "outputs": [],
   "source": []
  }
 ],
 "metadata": {
  "kernelspec": {
   "display_name": "TRADING",
   "language": "python",
   "name": "trading"
  },
  "language_info": {
   "codemirror_mode": {
    "name": "ipython",
    "version": 3
   },
   "file_extension": ".py",
   "mimetype": "text/x-python",
   "name": "python",
   "nbconvert_exporter": "python",
   "pygments_lexer": "ipython3",
   "version": "3.9.1"
  }
 },
 "nbformat": 4,
 "nbformat_minor": 4
}
